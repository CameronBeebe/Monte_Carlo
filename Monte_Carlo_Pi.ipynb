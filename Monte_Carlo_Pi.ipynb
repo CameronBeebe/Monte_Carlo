{
 "cells": [
  {
   "cell_type": "code",
   "execution_count": 1,
   "metadata": {},
   "outputs": [],
   "source": [
    "# Estimate pi using MC methods, parallelized with MPI\n",
    "import numpy as np"
   ]
  },
  {
   "cell_type": "code",
   "execution_count": 18,
   "metadata": {},
   "outputs": [],
   "source": [
    "# Generate random points in quadrant of a square/circle.\n",
    "# Points (x,y) whose distance is normalized to 1 will be on the arc.\n",
    "# Greater than 1 and less than sqrt(2) will be outside the circle in the square. \n",
    "# Comparing samples of points will allow us to find the ratio 1/pi, and thus pi.\n",
    "\n",
    "def generate_points(num_pairs):\n",
    "    return np.random.uniform(high=np.sqrt(2), size=(num_pairs,2))\n"
   ]
  },
  {
   "cell_type": "code",
   "execution_count": 19,
   "metadata": {},
   "outputs": [],
   "source": [
    "points = generate_points(100)"
   ]
  },
  {
   "cell_type": "code",
   "execution_count": 25,
   "metadata": {},
   "outputs": [],
   "source": [
    "# Calculate for each point whether it is inside or outside the arc.\n",
    "def calc_lengths(pairs):\n",
    "    return np.array([np.linalg.norm(i) for i in pairs])"
   ]
  },
  {
   "cell_type": "code",
   "execution_count": 26,
   "metadata": {},
   "outputs": [
    {
     "data": {
      "text/plain": [
       "array([0.95422289, 1.44444342, 0.82438491, 1.2211868 , 1.89015655,\n",
       "       1.56802238, 0.80729582, 1.28475209, 1.32062115, 1.00291293,\n",
       "       0.48509483, 1.23929965, 1.07837497, 1.15138045, 1.16694227,\n",
       "       1.38011196, 0.1831338 , 0.02583349, 1.49242254, 1.59104283,\n",
       "       1.81486025, 1.05959693, 1.23473881, 1.4255419 , 0.92223934,\n",
       "       1.62733335, 1.34870399, 1.24479434, 1.37614766, 1.41773741,\n",
       "       1.19632588, 0.93439946, 0.96933637, 1.5486788 , 1.20431452,\n",
       "       0.30681569, 1.25672726, 1.22795401, 0.41076143, 1.27185713,\n",
       "       0.938687  , 1.06929099, 1.6909625 , 1.72555323, 0.5776439 ,\n",
       "       1.17708625, 1.30807022, 1.70156363, 1.48633102, 0.33169715,\n",
       "       1.04762303, 1.42724812, 1.38175514, 0.58639075, 1.21127396,\n",
       "       1.10954629, 1.2117007 , 1.04379269, 0.81589591, 1.24591978,\n",
       "       1.2036558 , 1.07419507, 0.97470197, 1.09969175, 1.24995019,\n",
       "       1.18336737, 1.40554217, 1.06480641, 1.16734259, 1.10377078,\n",
       "       1.32834484, 1.56607561, 0.91070192, 1.1009146 , 1.52622075,\n",
       "       0.93816137, 0.99091051, 1.29317312, 0.90720889, 1.45152222,\n",
       "       0.30855342, 1.60244818, 1.04713052, 0.15316911, 1.19596676,\n",
       "       0.69522891, 0.94687056, 1.21483027, 1.05590125, 1.59586671,\n",
       "       1.30689479, 0.86990564, 1.27396204, 1.4726642 , 0.70060733,\n",
       "       1.36403084, 1.49879886, 1.21346386, 1.66129625, 0.10917771])"
      ]
     },
     "execution_count": 26,
     "metadata": {},
     "output_type": "execute_result"
    }
   ],
   "source": [
    "calc_lengths(points)"
   ]
  },
  {
   "cell_type": "code",
   "execution_count": null,
   "metadata": {},
   "outputs": [],
   "source": []
  },
  {
   "cell_type": "code",
   "execution_count": 13,
   "metadata": {},
   "outputs": [
    {
     "data": {
      "text/plain": [
       "array([[0.08085825, 0.5071047 ],\n",
       "       [0.7051613 , 0.73357533]])"
      ]
     },
     "execution_count": 13,
     "metadata": {},
     "output_type": "execute_result"
    }
   ],
   "source": [
    "a = np.random.uniform(high=np.sqrt(2), size=(2,2))\n",
    "a"
   ]
  },
  {
   "cell_type": "code",
   "execution_count": 21,
   "metadata": {},
   "outputs": [
    {
     "data": {
      "text/plain": [
       "array([[0.08085825, 0.5071047 ],\n",
       "       [0.7051613 , 0.73357533]])"
      ]
     },
     "execution_count": 21,
     "metadata": {},
     "output_type": "execute_result"
    }
   ],
   "source": [
    "a"
   ]
  },
  {
   "cell_type": "code",
   "execution_count": 22,
   "metadata": {},
   "outputs": [
    {
     "data": {
      "text/plain": [
       "[0.51351069141708, 1.0175388073118494]"
      ]
     },
     "execution_count": 22,
     "metadata": {},
     "output_type": "execute_result"
    }
   ],
   "source": [
    "[np.linalg.norm(i) for i in a]"
   ]
  },
  {
   "cell_type": "code",
   "execution_count": 24,
   "metadata": {},
   "outputs": [
    {
     "data": {
      "text/plain": [
       "0.5135106944895622"
      ]
     },
     "execution_count": 24,
     "metadata": {},
     "output_type": "execute_result"
    }
   ],
   "source": [
    "np.sqrt(0.08085825**2 + 0.5071047**2)"
   ]
  },
  {
   "cell_type": "code",
   "execution_count": null,
   "metadata": {},
   "outputs": [],
   "source": []
  }
 ],
 "metadata": {
  "kernelspec": {
   "display_name": "Python 3",
   "language": "python",
   "name": "python3"
  },
  "language_info": {
   "codemirror_mode": {
    "name": "ipython",
    "version": 3
   },
   "file_extension": ".py",
   "mimetype": "text/x-python",
   "name": "python",
   "nbconvert_exporter": "python",
   "pygments_lexer": "ipython3",
   "version": "3.7.7"
  }
 },
 "nbformat": 4,
 "nbformat_minor": 4
}
