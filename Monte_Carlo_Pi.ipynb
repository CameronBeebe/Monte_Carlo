{
 "cells": [
  {
   "cell_type": "code",
   "execution_count": 1,
   "metadata": {},
   "outputs": [],
   "source": [
    "# Estimate pi using MC methods, parallelized with MPI\n",
    "import numpy as np"
   ]
  },
  {
   "cell_type": "code",
   "execution_count": 2,
   "metadata": {},
   "outputs": [],
   "source": [
    "# Generate random points in quadrant of a square/circle.\n",
    "# Points (x,y) whose distance is normalized to 1 will be on the arc.\n",
    "# Greater than 1 and less than sqrt(2) will be outside the circle in the square. \n",
    "# Comparing samples of points will allow us to find the ratio 1/pi, and thus pi.\n",
    "\n",
    "def generate_points(num_pairs):\n",
    "    return np.random.uniform(high=np.sqrt(2), size=(num_pairs,2))\n"
   ]
  },
  {
   "cell_type": "code",
   "execution_count": 3,
   "metadata": {},
   "outputs": [],
   "source": [
    "points = generate_points(100)"
   ]
  },
  {
   "cell_type": "code",
   "execution_count": 4,
   "metadata": {},
   "outputs": [],
   "source": [
    "# Calculate for each point whether it is inside or outside the arc.\n",
    "def calc_lengths(pairs):\n",
    "    return np.array([np.linalg.norm(i) for i in pairs])"
   ]
  },
  {
   "cell_type": "code",
   "execution_count": 11,
   "metadata": {},
   "outputs": [
    {
     "data": {
      "text/plain": [
       "array([0.69961024, 0.59633571, 1.22009973, 1.20325209, 0.51591706,\n",
       "       0.86572874, 1.33879992, 1.22747316, 0.79001246, 0.87280863,\n",
       "       0.78894539, 1.20607437, 1.48797527, 1.01685184, 0.6996427 ,\n",
       "       0.88739067, 0.79063653, 0.17897347, 1.33538169, 1.006498  ,\n",
       "       1.11154953, 1.34353981, 0.89130901, 1.40666767, 1.2590906 ,\n",
       "       0.45901933, 1.57547738, 0.91140627, 1.53015512, 1.098531  ,\n",
       "       1.7003699 , 0.83596085, 1.39023407, 1.17427051, 1.39807829,\n",
       "       1.32640884, 1.42709348, 1.11654365, 0.81050302, 1.40969184,\n",
       "       1.40174263, 1.28474007, 1.32872343, 0.99403726, 1.2965759 ,\n",
       "       1.38700881, 1.02546579, 1.08890916, 1.38708566, 0.99211889,\n",
       "       1.41122357, 0.89159666, 1.37826591, 1.41841437, 1.12441677,\n",
       "       0.06776182, 1.47344207, 1.24180992, 0.97556574, 1.33369565,\n",
       "       1.47396572, 1.02731031, 1.43324361, 1.12667976, 1.40242438,\n",
       "       0.63991502, 1.07166429, 1.04469671, 1.15282571, 1.23804807,\n",
       "       0.89380069, 0.93110005, 1.18518854, 0.83535705, 0.89130164,\n",
       "       0.4920969 , 1.24124401, 0.72684329, 0.9997645 , 1.71290951,\n",
       "       0.51430187, 0.77772681, 1.09101837, 1.48265992, 1.3854679 ,\n",
       "       1.35672831, 0.85935718, 1.4855751 , 1.28576597, 1.26479103,\n",
       "       1.0476215 , 1.30389759, 1.0728063 , 0.43033802, 0.15889595,\n",
       "       1.24903689, 1.74975924, 1.29596556, 0.50794154, 0.67429749])"
      ]
     },
     "execution_count": 11,
     "metadata": {},
     "output_type": "execute_result"
    }
   ],
   "source": [
    "lengths = calc_lengths(points)\n",
    "lengths"
   ]
  },
  {
   "cell_type": "code",
   "execution_count": 23,
   "metadata": {},
   "outputs": [],
   "source": [
    "# Calculate ratio = 1/pi\n",
    "def ratio(lengths):\n",
    "    count = len(np.where(lengths > 1)[0])\n",
    "    print(count)\n",
    "    return count / len(lengths)"
   ]
  },
  {
   "cell_type": "code",
   "execution_count": 24,
   "metadata": {},
   "outputs": [
    {
     "name": "stdout",
     "output_type": "stream",
     "text": [
      "64\n"
     ]
    },
    {
     "data": {
      "text/plain": [
       "0.64"
      ]
     },
     "execution_count": 24,
     "metadata": {},
     "output_type": "execute_result"
    }
   ],
   "source": [
    "ratio(lengths)"
   ]
  },
  {
   "cell_type": "code",
   "execution_count": 25,
   "metadata": {},
   "outputs": [
    {
     "data": {
      "text/plain": [
       "1.5625"
      ]
     },
     "execution_count": 25,
     "metadata": {},
     "output_type": "execute_result"
    }
   ],
   "source": [
    "0.64**-1"
   ]
  },
  {
   "cell_type": "code",
   "execution_count": 17,
   "metadata": {},
   "outputs": [
    {
     "data": {
      "text/plain": [
       "array([[1.25995943, 1.30080506],\n",
       "       [0.03925566, 0.06264623]])"
      ]
     },
     "execution_count": 17,
     "metadata": {},
     "output_type": "execute_result"
    }
   ],
   "source": [
    "a = np.random.uniform(high=np.sqrt(2), size=(2,2))\n",
    "a"
   ]
  },
  {
   "cell_type": "code",
   "execution_count": 20,
   "metadata": {},
   "outputs": [
    {
     "data": {
      "text/plain": [
       "2"
      ]
     },
     "execution_count": 20,
     "metadata": {},
     "output_type": "execute_result"
    }
   ],
   "source": [
    "len(a[1])"
   ]
  },
  {
   "cell_type": "code",
   "execution_count": 22,
   "metadata": {},
   "outputs": [
    {
     "data": {
      "text/plain": [
       "[0.51351069141708, 1.0175388073118494]"
      ]
     },
     "execution_count": 22,
     "metadata": {},
     "output_type": "execute_result"
    }
   ],
   "source": [
    "[np.linalg.norm(i) for i in a]"
   ]
  },
  {
   "cell_type": "code",
   "execution_count": 24,
   "metadata": {},
   "outputs": [
    {
     "data": {
      "text/plain": [
       "0.5135106944895622"
      ]
     },
     "execution_count": 24,
     "metadata": {},
     "output_type": "execute_result"
    }
   ],
   "source": [
    "np.sqrt(0.08085825**2 + 0.5071047**2)"
   ]
  },
  {
   "cell_type": "code",
   "execution_count": null,
   "metadata": {},
   "outputs": [],
   "source": []
  }
 ],
 "metadata": {
  "kernelspec": {
   "display_name": "Python 3",
   "language": "python",
   "name": "python3"
  },
  "language_info": {
   "codemirror_mode": {
    "name": "ipython",
    "version": 3
   },
   "file_extension": ".py",
   "mimetype": "text/x-python",
   "name": "python",
   "nbconvert_exporter": "python",
   "pygments_lexer": "ipython3",
   "version": "3.7.7"
  }
 },
 "nbformat": 4,
 "nbformat_minor": 4
}
